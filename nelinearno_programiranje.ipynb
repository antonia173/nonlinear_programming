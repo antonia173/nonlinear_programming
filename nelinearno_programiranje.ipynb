{
 "cells": [
  {
   "cell_type": "markdown",
   "id": "ac31ae33",
   "metadata": {},
   "source": [
    "# Problem izbora portfelja investicija"
   ]
  },
  {
   "cell_type": "code",
   "execution_count": 1,
   "id": "0f9aa5ff",
   "metadata": {},
   "outputs": [],
   "source": [
    "import numpy as np\n",
    "import pandas as pd\n",
    "from scipy.optimize import minimize\n",
    "from sympy import symbols, Matrix, Eq, S, simplify, pprint"
   ]
  },
  {
   "cell_type": "markdown",
   "id": "da113963",
   "metadata": {},
   "source": [
    "Podaci o godišnjim prinosima za dionice D1, D2 i D3 kroz osam godina:"
   ]
  },
  {
   "cell_type": "code",
   "execution_count": 2,
   "id": "d5b04479",
   "metadata": {},
   "outputs": [
    {
     "data": {
      "text/html": [
       "<div>\n",
       "<style scoped>\n",
       "    .dataframe tbody tr th:only-of-type {\n",
       "        vertical-align: middle;\n",
       "    }\n",
       "\n",
       "    .dataframe tbody tr th {\n",
       "        vertical-align: top;\n",
       "    }\n",
       "\n",
       "    .dataframe thead th {\n",
       "        text-align: right;\n",
       "    }\n",
       "</style>\n",
       "<table border=\"1\" class=\"dataframe\">\n",
       "  <thead>\n",
       "    <tr style=\"text-align: right;\">\n",
       "      <th></th>\n",
       "      <th>1</th>\n",
       "      <th>2</th>\n",
       "      <th>3</th>\n",
       "      <th>4</th>\n",
       "      <th>5</th>\n",
       "      <th>6</th>\n",
       "      <th>7</th>\n",
       "      <th>8</th>\n",
       "    </tr>\n",
       "  </thead>\n",
       "  <tbody>\n",
       "    <tr>\n",
       "      <th>D1</th>\n",
       "      <td>10.4</td>\n",
       "      <td>11.5</td>\n",
       "      <td>-1.5</td>\n",
       "      <td>9.5</td>\n",
       "      <td>7.4</td>\n",
       "      <td>9.2</td>\n",
       "      <td>6.8</td>\n",
       "      <td>12.3</td>\n",
       "    </tr>\n",
       "    <tr>\n",
       "      <th>D2</th>\n",
       "      <td>7.5</td>\n",
       "      <td>10.2</td>\n",
       "      <td>15.2</td>\n",
       "      <td>12.4</td>\n",
       "      <td>18.7</td>\n",
       "      <td>15.0</td>\n",
       "      <td>16.3</td>\n",
       "      <td>17.5</td>\n",
       "    </tr>\n",
       "    <tr>\n",
       "      <th>D3</th>\n",
       "      <td>8.3</td>\n",
       "      <td>15.4</td>\n",
       "      <td>-2.5</td>\n",
       "      <td>-3.4</td>\n",
       "      <td>15.8</td>\n",
       "      <td>12.5</td>\n",
       "      <td>-1.5</td>\n",
       "      <td>25.8</td>\n",
       "    </tr>\n",
       "  </tbody>\n",
       "</table>\n",
       "</div>"
      ],
      "text/plain": [
       "       1     2     3     4     5     6     7     8\n",
       "D1  10.4  11.5  -1.5   9.5   7.4   9.2   6.8  12.3\n",
       "D2   7.5  10.2  15.2  12.4  18.7  15.0  16.3  17.5\n",
       "D3   8.3  15.4  -2.5  -3.4  15.8  12.5  -1.5  25.8"
      ]
     },
     "execution_count": 2,
     "metadata": {},
     "output_type": "execute_result"
    }
   ],
   "source": [
    "data = [[10.4, 11.5, -1.5, 9.5, 7.4, 9.2, 6.8, 12.3],\n",
    "         [7.5, 10.2, 15.2, 12.4, 18.7, 15.0, 16.3, 17.5],\n",
    "         [8.3, 15.4, -2.5, -3.4, 15.8, 12.5, -1.5, 25.8]]\n",
    "\n",
    "expected_rate_of_return = 10 # očekivani prinos od barem 10%\n",
    "\n",
    "n = len(data)  # broj dionica \n",
    "r = len(data[0]) # broj godina \n",
    "\n",
    "df = pd.DataFrame(data, columns=[1, 2, 3, 4, 5, 6, 7, 8], index=['D1', 'D2', 'D3'])\n",
    "df"
   ]
  },
  {
   "cell_type": "markdown",
   "id": "feaee50a",
   "metadata": {},
   "source": [
    "## pj - prosječna stopa prinosa investicije j (j = 1, 2, ..., n)"
   ]
  },
  {
   "cell_type": "code",
   "execution_count": 3,
   "id": "29d95965",
   "metadata": {},
   "outputs": [
    {
     "name": "stdout",
     "output_type": "stream",
     "text": [
      "[p1, p2, p3] = [8.2, 14.1, 8.8]\n"
     ]
    }
   ],
   "source": [
    "def calc_p(data):\n",
    "   p = []\n",
    "   for j in range(n):\n",
    "      p.append(sum(data[j]) / r)\n",
    "   return p\n",
    "\n",
    "p = calc_p(data)\n",
    "print(\"[p1, p2, p3] = %s\" % (p))"
   ]
  },
  {
   "attachments": {
    "image.png": {
     "image/png": "[encoded data removed]"
    }
   },
   "cell_type": "markdown",
   "id": "00d49087",
   "metadata": {},
   "source": [
    "## Varijanca investicije j:\n",
    "![image.png](attachment:image.png)"
   ]
  },
  {
   "cell_type": "code",
   "execution_count": 4,
   "id": "ca5193ea",
   "metadata": {},
   "outputs": [
    {
     "name": "stdout",
     "output_type": "stream",
     "text": [
      "[σ1², σ2², σ3²] = [16.49, 12.655, 97.265]\n"
     ]
    }
   ],
   "source": [
    "def calc_variance(data, p):\n",
    "   sigmas = []\n",
    "   for j in range(n):\n",
    "      sum = 0\n",
    "      for k in range(r):\n",
    "         sum += (data[j][k] - p[j]) ** 2\n",
    "      sigmas.append(round(sum / r, 5))\n",
    "   return sigmas\n",
    "\n",
    "var = calc_variance(data, p)\n",
    "print(\"[σ1², σ2², σ3²] = %s\" % (var))"
   ]
  },
  {
   "attachments": {
    "image.png": {
     "image/png": "[encoded data removed]"
    }
   },
   "cell_type": "markdown",
   "id": "058df506",
   "metadata": {},
   "source": [
    "## Kovarijanca investicija i i j (i,j = 1, 2, ..., n) \n",
    "![image.png](attachment:image.png)"
   ]
  },
  {
   "cell_type": "code",
   "execution_count": 5,
   "id": "348d1115",
   "metadata": {},
   "outputs": [],
   "source": [
    "def calc_covariance(data, p, i, j):\n",
    "   sigma = 0\n",
    "   for k in range(r):\n",
    "      sigma += (data[i][k] - p[i])*(data[j][k]-p[j])\n",
    "   sigma = round(sigma / r, 5)\n",
    "   return sigma"
   ]
  },
  {
   "attachments": {
    "image-2.png": {
     "image/png": "[encoded data removed]"
    },
    "image.png": {
     "image/png": "[encoded data removed]"
    }
   },
   "cell_type": "markdown",
   "id": "c6a786a0",
   "metadata": {},
   "source": [
    "## Varijanca, kao mjera rizika portfelja određena je relacijom:\n",
    "![image.png](attachment:image.png)\n",
    "## gdje je V kovarijancna matrica:\n",
    "![image-2.png](attachment:image-2.png)"
   ]
  },
  {
   "cell_type": "code",
   "execution_count": 6,
   "id": "e34b2513",
   "metadata": {},
   "outputs": [
    {
     "name": "stdout",
     "output_type": "stream",
     "text": [
      "V = \n",
      "\n",
      "⎡ 16.49    -4.02375  24.58125⎤\n",
      "⎢                            ⎥\n",
      "⎢-4.02375   12.655    7.0675 ⎥\n",
      "⎢                            ⎥\n",
      "⎣24.58125   7.0675    97.265 ⎦\n"
     ]
    }
   ],
   "source": [
    "def covariance_matrix(data, p):\n",
    "   sigma = calc_variance(data, p) \n",
    "   V = np.empty([n, n]) # nxn matrica\n",
    "   for i in range(n):\n",
    "      for j in range(n):\n",
    "         if i == j:\n",
    "            V[i][j] = sigma[j]\n",
    "         else:\n",
    "            V[i][j] = calc_covariance(data, p, i, j)\n",
    "   return V\n",
    "\n",
    "V = covariance_matrix(data, p)\n",
    "print(\"V = \\n\")\n",
    "pprint(Matrix(V))"
   ]
  },
  {
   "cell_type": "code",
   "execution_count": 7,
   "id": "5ed03cdf",
   "metadata": {},
   "outputs": [
    {
     "data": {
      "text/latex": [
       "$\\displaystyle vp = 16.49 x_{1}^{2} - 8.0475 x_{1} x_{2} + 49.1625 x_{1} x_{3} + 12.655 x_{2}^{2} + 14.135 x_{2} x_{3} + 97.265 x_{3}^{2}$"
      ],
      "text/plain": [
       "Eq(vp, 16.49*x1**2 - 8.0475*x1*x2 + 49.1625*x1*x3 + 12.655*x2**2 + 14.135*x2*x3 + 97.265*x3**2)"
      ]
     },
     "execution_count": 7,
     "metadata": {},
     "output_type": "execute_result"
    }
   ],
   "source": [
    "x1, x2, x3 = symbols('x1 x2 x3')\n",
    "xT = Matrix([[x1, x2, x3]])\n",
    "x =  xT.transpose()\n",
    "vp = xT.multiply(V)\n",
    "vp = Matrix(vp).multiply(x)\n",
    "\n",
    "simplify(Eq(S('vp'), vp[0]))"
   ]
  },
  {
   "cell_type": "markdown",
   "id": "4df6ab6a",
   "metadata": {},
   "source": [
    "### Problem: minimizacija rizika portfelja uz ostvarni očekivani prinos od barem 10%\n",
    "min vp</br>\n",
    "Ograničenja: </br>\n",
    "x1 + x2 + x3 = 1 </br>\n",
    "8.2 * x1 + 14.1 * x2 + 8.8 * x3 >= 10 </br>\n",
    "x1, x2, x3 >= 0"
   ]
  },
  {
   "cell_type": "code",
   "execution_count": 8,
   "id": "82f4b698",
   "metadata": {},
   "outputs": [],
   "source": [
    "# vp = 16.49*x1^2 + 12.655*x2^2 + 97.265*x3^2 - 8.0475*x1*x2 + 49.1625*x1*x3 + 14.135*x2*x3 \n",
    "def objective(x):\n",
    "    x1 = x[0]\n",
    "    x2 = x[1]\n",
    "    x3 = x[2]\n",
    "    return 16.49*x1*x1 + 12.655*x2*x2 + 97.265*x3*x3 - 8.0475*x1*x2 + 49.1625*x1*x3 + 14.135*x2*x3\n",
    "\n",
    "# x1 + x2 + x3 = 1\n",
    "def constraint1(x):\n",
    "    return 1 - x[0] - x[1] - x[2]\n",
    "\n",
    "#  8.2*x1 + 14.1*x2 + 8.8*x3 >= 10\n",
    "def constraint2(x):\n",
    "    return 8.2*x[0] + 14.1*x[1] + 8.8*x[2] - 10"
   ]
  },
  {
   "cell_type": "code",
   "execution_count": 9,
   "id": "6fb99290",
   "metadata": {},
   "outputs": [],
   "source": [
    "b = (0, None) # >= 0\n",
    "x_bounds = (b, b, b) # x1, x2, x3 >= 0\n",
    "\n",
    "con1 = {'type': 'eq', 'fun': constraint1 }\n",
    "con2 = {'type': 'ineq', 'fun': constraint2 }\n",
    "cons = [con1, con2]\n",
    "\n",
    "x0 = [0,0,0]\n",
    "\n",
    "solution = minimize(objective, x0, method='SLSQP', bounds=x_bounds, constraints=cons)"
   ]
  },
  {
   "cell_type": "code",
   "execution_count": 10,
   "id": "ec96cf18",
   "metadata": {},
   "outputs": [
    {
     "name": "stdout",
     "output_type": "stream",
     "text": [
      "x1 = 0.4484\n",
      "x2 = 0.5516\n",
      "x3 = 0.0000\n",
      "vp = 5.1755\n",
      "Očekivani prinos: 8.2*x1 + 14.1*x2 + 8.8*x3 = 11.4542\n"
     ]
    }
   ],
   "source": [
    "x1 = solution.x[0]\n",
    "x2 = solution.x[1]\n",
    "x3 = solution.x[2]\n",
    "vp = solution.fun\n",
    "exp_return_on_investment = 8.2*x1 + 14.1*x2 + 8.8*x3\n",
    "\n",
    "print(\"x1 = %.4f\" % (x1))\n",
    "print(\"x2 = %.4f\" % (x2))\n",
    "print(\"x3 = %.4f\" % (x3))\n",
    "print(\"vp = %.4f\" % (vp))\n",
    "print(\"Očekivani prinos: 8.2*x1 + 14.1*x2 + 8.8*x3 = %.4f\" % (exp_return_on_investment))"
   ]
  },
  {
   "cell_type": "markdown",
   "id": "f385b0cc",
   "metadata": {},
   "source": [
    "Prema tome uz minimalni rizik vp = 5.1755 treba uložiti 44.84% sredstava u dionice D1, a 55.16% sredstava u dionice D2."
   ]
  }
 ],
 "metadata": {
  "kernelspec": {
   "display_name": "Python 3 (ipykernel)",
   "language": "python",
   "name": "python3"
  },
  "language_info": {
   "codemirror_mode": {
    "name": "ipython",
    "version": 3
   },
   "file_extension": ".py",
   "mimetype": "text/x-python",
   "name": "python",
   "nbconvert_exporter": "python",
   "pygments_lexer": "ipython3",
   "version": "3.9.13"
  }
 },
 "nbformat": 4,
 "nbformat_minor": 5
}
